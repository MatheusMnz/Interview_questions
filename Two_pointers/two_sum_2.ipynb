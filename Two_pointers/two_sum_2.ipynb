{
 "cells": [
  {
   "cell_type": "markdown",
   "metadata": {},
   "source": [
    "## Two Sum II - Input array is sorted\n",
    "\n",
    "Given a 1-indexed array of integers `numbers` that is already sorted in non-decreasing order, find two numbers such that they add up to a specific target number. Let these two numbers be `numbers[index1]` and `numbers[index2]` where `1 <= index1 < index2 <= numbers.length`.\n",
    "\n",
    "Return the indices of the two numbers, `index1` and `index2`, added by one as an integer array `[index1, index2]` of length 2.\n",
    "\n",
    "The tests are generated such that there is exactly one solution. You may not use the same element twice.\n",
    "\n",
    "Your solution must use only constant extra space.\n",
    "\n",
    "### Examples:\n",
    "\n",
    "#### Example 1:\n",
    "\n",
    "Input: `numbers = [2,7,11,15], target = 9`\n",
    "Output: `[1,2]`\n",
    "Explanation: The sum of 2 and 7 is 9. Therefore, `index1 = 1`, `index2 = 2`. We return `[1, 2]`.\n",
    "\n",
    "#### Example 2:\n",
    "\n",
    "Input: `numbers = [2,3,4], target = 6`\n",
    "Output: `[1,3]`\n",
    "Explanation: The sum of 2 and 4 is 6. Therefore, `index1 = 1`, `index2 = 3`. We return `[1, 3]`.\n",
    "\n",
    "#### Example 3:\n",
    "\n",
    "Input: `numbers = [-1,0], target = -1`\n",
    "Output: `[1,2]`\n",
    "Explanation: The sum of -1 and 0 is -1. Therefore, `index1 = 1`, `index2 = 2`. We return `[1, 2]`.\n",
    "\n",
    "### Constraints:\n",
    "\n",
    "- `2 <= numbers.length <= 3 * 10^4`\n",
    "- `-1000 <= numbers[i] <= 1000`\n",
    "- `numbers` is sorted in non-decreasing order.\n",
    "- `-1000 <= target <= 1000`\n",
    "- The tests are generated such that there is exactly one solution.\n"
   ]
  },
  {
   "cell_type": "code",
   "execution_count": null,
   "metadata": {},
   "outputs": [],
   "source": [
    "from typing import List\n",
    "\n",
    "\n",
    "class Solution:\n",
    "\n",
    "    def twoSum(self, nums: List[int], target: int) -> List[int]:\n",
    "        left, right = 0, len(nums) - 1\n",
    "\n",
    "        while left < right:\n",
    "            current_sum = nums[left] + nums[right]\n",
    "\n",
    "            if current_sum > target:\n",
    "                right -= 1\n",
    "            elif current_sum < target:\n",
    "                left += 1\n",
    "            else: \n",
    "                return [left + 1, right + 1]\n"
   ]
  }
 ],
 "metadata": {
  "language_info": {
   "name": "python"
  }
 },
 "nbformat": 4,
 "nbformat_minor": 2
}
