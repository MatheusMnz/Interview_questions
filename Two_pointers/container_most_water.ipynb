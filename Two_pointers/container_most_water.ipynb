{
 "cells": [
  {
   "cell_type": "markdown",
   "metadata": {},
   "source": [
    "## Container With Most Water\n",
    "\n",
    "You are given an integer array `height` of length `n`. There are `n` vertical lines drawn such that the two endpoints of the ith line are `(i, 0)` and `(i, height[i])`.\n",
    "\n",
    "Find two lines that together with the x-axis form a container, such that the container contains the most water.\n",
    "\n",
    "Return the maximum amount of water a container can store.\n",
    "\n",
    "Notice that you may not slant the container.\n",
    "\n",
    "### Example:\n",
    "\n",
    "#### Example 1:\n",
    "\n",
    "Input: `height = [1,8,6,2,5,4,8,3,7]`\n",
    "Output: `49`\n",
    "Explanation: The above vertical lines are represented by array `[1,8,6,2,5,4,8,3,7]`. In this case, the max area of water (blue section) the container can contain is `49`.\n",
    "\n",
    "#### Example 2:\n",
    "\n",
    "Input: `height = [1,1]`\n",
    "Output: `1`\n",
    "\n",
    "### Constraints:\n",
    "\n",
    "- `n == height.length`\n",
    "- `2 <= n <= 10^5`\n",
    "- `0 <= height[i] <= 10^4`\n"
   ]
  },
  {
   "cell_type": "code",
   "execution_count": null,
   "metadata": {},
   "outputs": [],
   "source": [
    "from typing import List\n",
    "\n",
    "\n",
    "class Solution:\n",
    "    def maxArea(self, height: List[int]) -> int:\n",
    "        maxArea = 0\n",
    "        stack = []\n",
    "\n",
    "        for i, h in enumerate(height):\n",
    "            start = i\n",
    "            while stack and stack[-1][1] > h:\n",
    "                index, h = stack.pop()\n",
    "                maxArea = max(maxArea, h * (i - index))\n",
    "                start = index\n",
    "            stack.append((start, h))\n",
    "\n",
    "        for element in stack:\n",
    "            index, h = element\n",
    "            maxArea = max(maxArea, h * (len(height) - index - 1))\n",
    "        return maxArea\n"
   ]
  }
 ],
 "metadata": {
  "language_info": {
   "name": "python"
  }
 },
 "nbformat": 4,
 "nbformat_minor": 2
}
