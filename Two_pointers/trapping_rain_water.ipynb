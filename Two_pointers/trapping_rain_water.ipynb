{
 "cells": [
  {
   "cell_type": "markdown",
   "metadata": {},
   "source": [
    "## Trapping Rain Water\n",
    "\n",
    "Given `n` non-negative integers representing an elevation map where the width of each bar is 1, compute how much water it can trap after raining.\n",
    "\n",
    "### Example:\n",
    "\n",
    "#### Example 1:\n",
    "\n",
    "Input: `height = [0,1,0,2,1,0,1,3,2,1,2,1]`\n",
    "Output: `6`\n",
    "Explanation: The above elevation map (black section) is represented by array `[0,1,0,2,1,0,1,3,2,1,2,1]`. In this case, 6 units of rain water (blue section) are being trapped.\n",
    "\n",
    "#### Example 2:\n",
    "\n",
    "Input: `height = [4,2,0,3,2,5]`\n",
    "Output: `9`\n",
    "\n",
    "### Constraints:\n",
    "\n",
    "- `n == height.length`\n",
    "- `1 <= n <= 2 * 10^4`\n",
    "- `0 <= height[i] <= 10^5`\n"
   ]
  },
  {
   "cell_type": "code",
   "execution_count": null,
   "metadata": {},
   "outputs": [],
   "source": [
    "from typing import List\n",
    "\n",
    "\n",
    "class Solution:\n",
    "    def trap(self, height: List[int]) -> int:\n",
    "        \n",
    "        if not height:\n",
    "            return 0\n",
    "\n",
    "        left, right = 0, len(height) - 1\n",
    "        leftMax, rightMax = height[left], height[right]\n",
    "        res = 0\n",
    "\n",
    "        while left < right:\n",
    "            if leftMax < rightMax:\n",
    "                left += 1\n",
    "                leftMax = max(leftMax, height[left])\n",
    "                res += leftMax - height[left]\n",
    "            else:\n",
    "                right -= 1\n",
    "                rightMax = max(rightMax, height[right])\n",
    "                res += rightMax - height[right]\n",
    "            \n",
    "        return res"
   ]
  }
 ],
 "metadata": {
  "language_info": {
   "name": "python"
  }
 },
 "nbformat": 4,
 "nbformat_minor": 2
}
