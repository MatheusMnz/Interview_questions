{
 "cells": [
  {
   "cell_type": "markdown",
   "metadata": {},
   "source": [
    "# Longest Consecutive Elements Sequence\n",
    "\n",
    "Given an unsorted array of integers `nums`, return the length of the longest consecutive elements sequence.\n",
    "\n",
    "You must write an algorithm that runs in O(n) time.\n",
    "\n",
    "**Example 1:**\n",
    "\n",
    "Input: `nums = [100,4,200,1,3,2]`\n",
    "Output: `4`\n",
    "Explanation: The longest consecutive elements sequence is [1, 2, 3, 4]. Therefore, its length is 4.\n",
    "\n",
    "**Example 2:**\n",
    "\n",
    "Input: `nums = [0,3,7,2,5,8,4,6,0,1]`\n",
    "Output: `9`\n",
    "\n",
    "**Constraints:**\n",
    "\n",
    "- 0 <= nums.length <= 105\n",
    "- -109 <= nums[i] <= 109\n"
   ]
  },
  {
   "cell_type": "code",
   "execution_count": null,
   "metadata": {},
   "outputs": [],
   "source": [
    "from typing import List\n",
    "\n",
    "\n",
    "class Solution:\n",
    "    def longestConsecutive(self, nums: List[int]) -> int:\n",
    "        nums = set(nums)\n",
    "        output = 0\n",
    "\n",
    "        for n in nums:\n",
    "            if n-1 not in nums:\n",
    "                start = n\n",
    "                while start in nums:\n",
    "                    start += 1\n",
    "                output = max(output, start - n)\n",
    "        return output\n"
   ]
  }
 ],
 "metadata": {
  "language_info": {
   "name": "python"
  }
 },
 "nbformat": 4,
 "nbformat_minor": 2
}
