{
 "cells": [
  {
   "cell_type": "markdown",
   "metadata": {},
   "source": [
    "# K Most Frequent Elements\n",
    "\n",
    "Given an integer array `nums` and an integer `k`, return the `k` most frequent elements. You may return the answer in any order.\n",
    "\n",
    "**Example 1:**\n",
    "\n",
    "Input: `nums = [1,1,1,2,2,3], k = 2`\n",
    "Output: `[1,2]`\n",
    "\n",
    "**Example 2:**\n",
    "\n",
    "Input: `nums = [1], k = 1`\n",
    "Output: `[1]`\n",
    "\n",
    "**Constraints:**\n",
    "\n",
    "- 1 <= nums.length <= 105\n",
    "- -104 <= nums[i] <= 104\n",
    "- `k` is in the range [1, the number of unique elements in the array].\n",
    "- It is guaranteed that the answer is unique.\n"
   ]
  },
  {
   "cell_type": "code",
   "execution_count": null,
   "metadata": {},
   "outputs": [],
   "source": [
    "from typing import List\n",
    "\n",
    "\n",
    "class Solution:\n",
    "    def topKFrequent(self, nums: List[int], k: int) -> List[int]:\n",
    "        frequency_count = {}\n",
    "\n",
    "        # Contagem de frequência\n",
    "        for element in nums:\n",
    "            frequency_count[element] = 1 + frequency_count.get(element, 0)\n",
    "\n",
    "        print(\"Chaves e Frequências:\", frequency_count)\n",
    "\n",
    "\n",
    "        # Organiza os elementos com base na frequência em ordem decrescente\n",
    "        sorted_elements = sorted(frequency_count.keys(), key=lambda x: frequency_count[x], reverse=True)\n",
    "\n",
    "        return sorted_elements[:k]\n",
    "    \n",
    "    # 1 2 3 5\n",
    "    # 3 2 1 4\n",
    "\n",
    "    # 4 3 2 1\n",
    "\n",
    "    # 5 1 2 3\n",
    "\n",
    "    # 5 1 \n",
    "    \n",
    "\n",
    "\n",
    "\n",
    "# sol = Solution()\n",
    "# print(sol.topKFrequent([1,1,1,2,2,3, 5, 5, 5, 5], 3))"
   ]
  }
 ],
 "metadata": {
  "language_info": {
   "name": "python"
  }
 },
 "nbformat": 4,
 "nbformat_minor": 2
}
