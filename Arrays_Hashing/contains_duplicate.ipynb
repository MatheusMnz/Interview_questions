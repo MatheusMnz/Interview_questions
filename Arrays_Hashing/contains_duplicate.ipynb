{
 "cells": [
  {
   "cell_type": "markdown",
   "metadata": {},
   "source": [
    "# Contains Duplicate\n",
    "\n",
    "Given an integer array `nums`, return true if any value appears at least twice in the array, and return false if every element is distinct.\n",
    "\n",
    "**Example 1:**\n",
    "\n",
    "Input: `nums = [1,2,3,1]`\n",
    "Output: `true`\n",
    "\n",
    "**Example 2:**\n",
    "\n",
    "Input: `nums = [1,2,3,4]`\n",
    "Output: `false`\n",
    "\n",
    "**Example 3:**\n",
    "\n",
    "Input: `nums = [1,1,1,3,3,4,3,2,4,2]`\n",
    "Output: `true`\n",
    "\n",
    "**Constraints:**\n",
    "\n",
    "- 1 <= nums.length <= 10^5\n",
    "- -10^9 <= nums[i] <= 10^9\n"
   ]
  },
  {
   "cell_type": "code",
   "execution_count": null,
   "metadata": {},
   "outputs": [],
   "source": [
    "class Solution(object):\n",
    "    def containsDuplicate(self, nums):\n",
    "        hashset = set()\n",
    "        for element in nums:\n",
    "            if element in hashset:\n",
    "                return True\n",
    "            hashset.add(element)\n",
    "        return False"
   ]
  }
 ],
 "metadata": {
  "language_info": {
   "name": "python"
  }
 },
 "nbformat": 4,
 "nbformat_minor": 2
}
