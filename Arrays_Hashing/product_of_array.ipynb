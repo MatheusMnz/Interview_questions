{
 "cells": [
  {
   "cell_type": "markdown",
   "metadata": {},
   "source": [
    "# Product of Array Except Self\n",
    "\n",
    "Given an integer array `nums`, return an array `answer` such that `answer[i]` is equal to the product of all the elements of `nums` except `nums[i]`.\n",
    "\n",
    "The product of any prefix or suffix of `nums` is guaranteed to fit in a 32-bit integer.\n",
    "\n",
    "You must write an algorithm that runs in O(n) time and without using the division operation.\n",
    "\n",
    "**Example 1:**\n",
    "\n",
    "Input: `nums = [1,2,3,4]`\n",
    "Output: `[24,12,8,6]`\n",
    "\n",
    "**Example 2:**\n",
    "\n",
    "Input: `nums = [-1,1,0,-3,3]`\n",
    "Output: `[0,0,9,0,0]`\n",
    "\n",
    "**Constraints:**\n",
    "\n",
    "- 2 <= nums.length <= 105\n",
    "- -30 <= nums[i] <= 30\n",
    "- The product of any prefix or suffix of `nums` is guaranteed to fit in a 32-bit integer.\n"
   ]
  },
  {
   "cell_type": "code",
   "execution_count": null,
   "metadata": {},
   "outputs": [],
   "source": [
    "\n",
    "from typing import List\n",
    "\n",
    "class Solution:\n",
    "    def productExceptSelf(self, nums: List[int]) -> List[int]:\n",
    "        n = len(nums)\n",
    "        product = [1] * n\n",
    "\n",
    "        left_product = 1\n",
    "        for i in range(n): # 1 2 3 4\n",
    "            product[i] *= left_product\n",
    "            left_product *= nums[i]\n",
    "\n",
    "        right_product = 1\n",
    "        for i in range(n - 1, -1, -1):\n",
    "            product[i] *= right_product\n",
    "            right_product *= nums[i]\n",
    "\n",
    "        return product\n"
   ]
  }
 ],
 "metadata": {
  "language_info": {
   "name": "python"
  }
 },
 "nbformat": 4,
 "nbformat_minor": 2
}
