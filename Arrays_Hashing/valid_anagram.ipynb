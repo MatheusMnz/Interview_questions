{
 "cells": [
  {
   "cell_type": "markdown",
   "metadata": {},
   "source": [
    "# Valid Anagram\n",
    "\n",
    "Given two strings `s` and `t`, return true if `t` is an anagram of `s`, and false otherwise.\n",
    "\n",
    "An Anagram is a word or phrase formed by rearranging the letters of a different word or phrase, typically using all the original letters exactly once.\n",
    "\n",
    "**Example 1:**\n",
    "\n",
    "Input: `s = \"anagram\", t = \"nagaram\"`\n",
    "Output: `true`\n",
    "\n",
    "**Example 2:**\n",
    "\n",
    "Input: `s = \"rat\", t = \"car\"`\n",
    "Output: `false`\n",
    "\n",
    "**Constraints:**\n",
    "\n",
    "- 1 <= s.length, t.length <= 5 * 10^4\n",
    "- s and t consist of lowercase English letters.\n"
   ]
  },
  {
   "cell_type": "code",
   "execution_count": null,
   "metadata": {},
   "outputs": [],
   "source": [
    "class Solution(object):\n",
    "    def isAnagram(self, s, t):\n",
    "        if len(s) != len(t):\n",
    "            return False\n",
    "\n",
    "        count_s = [0] * 256  # Inicialize o array de contadores\n",
    "        count_t = [0] * 256  # para cobrir todos os possíveis caracteres\n",
    "\n",
    "        for i in range(len(s)):\n",
    "            count_s[ord(s[i])] += 1\n",
    "            count_t[ord(t[i])] += 1\n",
    "\n",
    "        for j in range(256):\n",
    "            if count_s[j] != count_t[j]:\n",
    "                return False\n",
    "\n",
    "        return True\n"
   ]
  }
 ],
 "metadata": {
  "language_info": {
   "name": "python"
  }
 },
 "nbformat": 4,
 "nbformat_minor": 2
}
