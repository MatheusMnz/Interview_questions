{
 "cells": [
  {
   "cell_type": "markdown",
   "metadata": {},
   "source": [
    "# Group Anagrams\n",
    "\n",
    "Given an array of strings `strs`, group the anagrams together. You can return the answer in any order.\n",
    "\n",
    "An Anagram is a word or phrase formed by rearranging the letters of a different word or phrase, typically using all the original letters exactly once.\n",
    "\n",
    "**Example 1:**\n",
    "\n",
    "Input: `strs = [\"eat\",\"tea\",\"tan\",\"ate\",\"nat\",\"bat\"]`\n",
    "Output: `[[\"bat\"],[\"nat\",\"tan\"],[\"ate\",\"eat\",\"tea\"]]`\n",
    "\n",
    "**Example 2:**\n",
    "\n",
    "Input: `strs = [\"\"]`\n",
    "Output: `[[\"\"]]`\n",
    "\n",
    "**Example 3:**\n",
    "\n",
    "Input: `strs = [\"a\"]`\n",
    "Output: `[[\"a\"]]`\n",
    "\n",
    "**Constraints:**\n",
    "\n",
    "- 1 <= strs.length <= 104\n",
    "- 0 <= strs[i].length <= 100\n",
    "- strs[i] consists of lowercase English letters.\n"
   ]
  },
  {
   "cell_type": "code",
   "execution_count": null,
   "metadata": {},
   "outputs": [],
   "source": [
    "import collections\n",
    "\n",
    "\n",
    "class Solution(object):\n",
    "    def groupAnagrams(self, strs):\n",
    "        ans = collections.defaultdict(list)\n",
    "        for s in strs:\n",
    "            count = [0] * 26\n",
    "            for c in s:\n",
    "                count[ord(c) - ord(\"a\")] += 1\n",
    "            ans[tuple(count)].append(s)\n",
    "        return ans.values()"
   ]
  }
 ],
 "metadata": {
  "language_info": {
   "name": "python"
  }
 },
 "nbformat": 4,
 "nbformat_minor": 2
}
