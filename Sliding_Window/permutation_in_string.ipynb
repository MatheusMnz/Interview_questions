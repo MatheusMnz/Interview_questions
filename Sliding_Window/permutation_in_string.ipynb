{
 "cells": [
  {
   "cell_type": "markdown",
   "metadata": {},
   "source": [
    "# Permutation in String\n",
    "\n",
    "Given two strings `s1` and `s2`, return true if `s2` contains a permutation of `s1`, or false otherwise. In other words, return true if one of `s1`'s permutations is the substring of `s2`.\n",
    "\n",
    "## Examples:\n",
    "\n",
    "### Example 1:\n",
    "\n",
    "Input: s1 = \"ab\", s2 = \"eidbaooo\"\n",
    "Output: true\n",
    "Explanation: s2 contains one permutation of s1 (\"ba\").\n",
    "\n",
    "### Example 2:\n",
    "\n",
    "Input: s1 = \"ab\", s2 = \"eidboaoo\"\n",
    "Output: false\n",
    "\n",
    "## Constraints:\n",
    "\n",
    "- 1 <= s1.length, s2.length <= 10^4\n",
    "- `s1` and `s2` consist of lowercase English letters."
   ]
  },
  {
   "cell_type": "code",
   "execution_count": null,
   "metadata": {},
   "outputs": [],
   "source": [
    "class Solution:\n",
    "    def checkInclusion(self, s1: str, s2: str) -> bool:\n",
    "        # Valido inicialmente o tamanho\n",
    "        if len(s1) > len(s2) : return False\n",
    "\n",
    "        s1Count, s2Count = [0] * 26, [0] * 26\n",
    "        for i in range(len(s1)):\n",
    "            # Converto o valor do caracter para código Asciie incremento a contagem dos elementos\n",
    "            s1Count[ord(s1[i]) - ord('a')] += 1\n",
    "            s2Count[ord(s2[i]) - ord('a')] += 1\n",
    "\n",
    "        matches = 0\n",
    "        # Verifico a quantidade de matchs para cada vetor\n",
    "        for i in range(26):\n",
    "            matches += (1 if s1Count[i] == s2Count[i] else 0)\n",
    "\n",
    "        l = 0\n",
    "        for r in range(len(s1), len(s2)):\n",
    "            # Se todos os caracteres batem, logo é possível\n",
    "            if matches == 26: return True\n",
    "\n",
    "            # Shift 1 a direita, realizo as validações\n",
    "            index = ord(s2[r]) - ord('a')\n",
    "            s2Count[index] += 1\n",
    "            if s1Count[index] == s2Count[index]:\n",
    "                matches += 1\n",
    "            elif s1Count[index] + 1 == s2Count[index]:\n",
    "                matches -= 1\n",
    "\n",
    "\n",
    "            # Shift 1 a esquerda, realizo as validações\n",
    "            index = ord(s2[l]) - ord('a')\n",
    "            # Decremento o elemento a esquerda, pois eu irei remover ele da windown\n",
    "            s2Count[index] -= 1\n",
    "            if s1Count[index] == s2Count[index]:\n",
    "                matches += 1\n",
    "            elif s1Count[index] - 1 == s2Count[index]:\n",
    "                matches -= 1\n",
    "            \n",
    "            # Inc left pointer\n",
    "            l += 1\n",
    "\n",
    "        return matches == 26 "
   ]
  }
 ],
 "metadata": {
  "language_info": {
   "name": "python"
  }
 },
 "nbformat": 4,
 "nbformat_minor": 2
}
