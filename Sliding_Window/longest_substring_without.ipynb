{
 "cells": [
  {
   "cell_type": "markdown",
   "metadata": {},
   "source": [
    "# Longest Substring Without Repeating Characters\n",
    "\n",
    "Given a string `s`, find the length of the longest substring without repeating characters.\n",
    "\n",
    "## Examples:\n",
    "\n",
    "### Example 1:\n",
    "\n",
    "Input: s = \"abcabcbb\"\n",
    "Output: 3\n",
    "Explanation: The answer is \"abc\", with a length of 3.\n",
    "\n",
    "### Example 2:\n",
    "\n",
    "Input: s = \"bbbbb\"\n",
    "Output: 1\n",
    "Explanation: The answer is \"b\", with a length of 1.\n",
    "\n",
    "### Example 3:\n",
    "\n",
    "Input: s = \"pwwkew\"\n",
    "Output: 3\n",
    "Explanation: The answer is \"wke\", with a length of 3. Notice that the answer must be a substring; \"pwke\" is a subsequence and not a substring.\n",
    "\n",
    "## Constraints:\n",
    "\n",
    "- 0 <= s.length <= 5 * 10^4\n",
    "- `s` consists of English letters, digits, symbols, and spaces."
   ]
  },
  {
   "cell_type": "code",
   "execution_count": null,
   "metadata": {},
   "outputs": [],
   "source": [
    "class Solution:\n",
    "    def lengthOfLongestSubstring(self, s: str) -> int:\n",
    "        charSet = set()\n",
    "        l = 0\n",
    "        res = 0\n",
    "\n",
    "        for r in range(len(s)):\n",
    "            while s[r] in charSet:\n",
    "                charSet.remove(s[l])\n",
    "                l += 1\n",
    "            charSet.add(s[r])\n",
    "            res = max(res, r - l + 1)\n",
    "        \n",
    "        return res"
   ]
  }
 ],
 "metadata": {
  "language_info": {
   "name": "python"
  }
 },
 "nbformat": 4,
 "nbformat_minor": 2
}
