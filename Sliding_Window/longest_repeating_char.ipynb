{
 "cells": [
  {
   "cell_type": "markdown",
   "metadata": {},
   "source": [
    "# Longest Substring with Same Letters After K Replacements\n",
    "\n",
    "You are given a string `s` and an integer `k`. You can choose any character of the string and change it to any other uppercase English character. You can perform this operation at most `k` times.\n",
    "\n",
    "Return the length of the longest substring containing the same letter you can get after performing the above operations.\n",
    "\n",
    "## Examples:\n",
    "\n",
    "### Example 1:\n",
    "\n",
    "Input: s = \"ABAB\", k = 2\n",
    "Output: 4\n",
    "Explanation: Replace the two 'A's with two 'B's or vice versa.\n",
    "\n",
    "### Example 2:\n",
    "\n",
    "Input: s = \"AABABBA\", k = 1\n",
    "Output: 4\n",
    "Explanation: Replace the one 'A' in the middle with 'B' and form \"AABBBBA\". The substring \"BBBB\" has the longest repeating letters, which is 4. There may exist other ways to achieve this answer too.\n",
    "\n",
    "## Constraints:\n",
    "\n",
    "- 1 <= s.length <= 10^5\n",
    "- `s` consists of only uppercase English letters.\n",
    "- 0 <= k <= s.length"
   ]
  },
  {
   "cell_type": "code",
   "execution_count": null,
   "metadata": {},
   "outputs": [],
   "source": [
    "class Solution:\n",
    "    def characterReplacement(self, s: str, k: int) -> int:\n",
    "        count = {} # Faço um hashmap para contar a frequência de cada caractere\n",
    "        res = 0\n",
    "\n",
    "        l = 0\n",
    "        maxF = 0\n",
    "\n",
    "        for r in range(len(s)):\n",
    "            count[s[r]] = 1 + count.get(s[r], 0) # Incremento a frequencia do Hash\n",
    "            maxF = max(maxF, count[s[r]]) # Pego o elemento mais frequente do Hash\n",
    "\n",
    "            # Se for uma janela válida e ultrapassar K\n",
    "            while ( r - l + 1) - maxF  > k:\n",
    "                count[s[l]] -= 1 # Decremento a frequencia do elemento no hash\n",
    "                l += 1 # incremento uma posição a esquerda e verifico as condições\n",
    "            \n",
    "            res = max(res, r - l + 1) # Pego o maior tamanho da janela\n",
    "        return res"
   ]
  }
 ],
 "metadata": {
  "language_info": {
   "name": "python"
  }
 },
 "nbformat": 4,
 "nbformat_minor": 2
}
