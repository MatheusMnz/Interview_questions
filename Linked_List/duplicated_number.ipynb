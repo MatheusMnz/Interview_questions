{
 "cells": [
  {
   "cell_type": "markdown",
   "metadata": {},
   "source": [
    "Given an array of integers `nums` containing `n + 1` integers where each integer is in the range [1, n] inclusive. There is only one repeated number in `nums`, return this repeated number. You must solve the problem without modifying the array `nums` and use only constant extra space.\n",
    "\n",
    "**Example 1:**\n",
    "Input: nums = [1,3,4,2,2]\n",
    "Output: 2\n",
    "\n",
    "**Example 2:**\n",
    "Input: nums = [3,1,3,4,2]\n",
    "Output: 3\n",
    "\n",
    "**Constraints:**\n",
    "- 1 <= n <= 105\n",
    "- `nums.length` == n + 1\n",
    "- 1 <= nums[i] <= n\n",
    "- All the integers in `nums` appear only once except for precisely one integer which appears two or more times.\n",
    "\n",
    "**Follow up:**\n",
    "1. How can we prove that at least one duplicate number must exist in `nums`?\n",
    "2. Can you solve the problem in linear runtime complexity?\n"
   ]
  },
  {
   "cell_type": "code",
   "execution_count": null,
   "metadata": {},
   "outputs": [],
   "source": [
    "class Solution:\n",
    "    def findDuplicate(self, nums: List[int]) -> int:\n",
    "        # Aplicando Floyd Cycle Detection\n",
    "        slow, fast = 0, 0\n",
    "\n",
    "        while True:\n",
    "            slow = nums[slow]\n",
    "            fast = nums[nums[fast]]\n",
    "            if slow == fast:\n",
    "                break\n",
    "\n",
    "        slow2 = 0\n",
    "        while True:\n",
    "            slow = nums[slow]\n",
    "            slow2 = nums[slow2]\n",
    "            if slow == slow2:\n",
    "                return slow"
   ]
  }
 ],
 "metadata": {
  "language_info": {
   "name": "python"
  }
 },
 "nbformat": 4,
 "nbformat_minor": 2
}
