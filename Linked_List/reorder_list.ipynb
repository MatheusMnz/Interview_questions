{
 "cells": [
  {
   "cell_type": "markdown",
   "metadata": {},
   "source": [
    "\n",
    "You are given the head of a singly linked-list. The list can be represented as:\n",
    "\n",
    "L0 → L1 → … → Ln - 1 → Ln\n",
    "Reorder the list to be on the following form:\n",
    "\n",
    "L0 → Ln → L1 → Ln - 1 → L2 → Ln - 2 → …\n",
    "\n",
    "You may not modify the values in the list's nodes. Only nodes themselves may be changed.\n",
    "\n",
    "Example 1:\n",
    "\n",
    "Input: head = [1,2,3,4]\n",
    "Output: [1,4,2,3]\n",
    "\n",
    "Example 2:\n",
    "\n",
    "Input: head = [1,2,3,4,5]\n",
    "Output: [1,5,2,4,3]\n"
   ]
  },
  {
   "cell_type": "code",
   "execution_count": null,
   "metadata": {},
   "outputs": [],
   "source": [
    "# Definition for singly-linked list.\n",
    "# class ListNode:\n",
    "#     def __init__(self, val=0, next=None):\n",
    "#         self.val = val\n",
    "#         self.next = next\n",
    "class Solution:\n",
    "    def reorderList(self, head: Optional[ListNode]) -> None:\n",
    "        # find middle using fast and slow pointers\n",
    "        slow, fast = head, head.next\n",
    "\n",
    "        while fast and fast.next:\n",
    "            slow = slow.next\n",
    "            fast = fast.next.next \n",
    "\n",
    "        # Reverse in second part\n",
    "        second = slow.next\n",
    "        prev = slow.next = None\n",
    "\n",
    "        # Inverto a ordem da lista \n",
    "        while second:\n",
    "            temp = second.next\n",
    "            second.next = prev\n",
    "            prev = second\n",
    "            second = temp\n",
    "\n",
    "        # Realizo o merge nas duas listas\n",
    "        first, second = head, prev\n",
    "        while second:\n",
    "            temp1, temp2 = first.next, second.next\n",
    "            first.next = second\n",
    "            second.next = temp1\n",
    "            first, second = temp1, temp2 "
   ]
  }
 ],
 "metadata": {
  "language_info": {
   "name": "python"
  }
 },
 "nbformat": 4,
 "nbformat_minor": 2
}
