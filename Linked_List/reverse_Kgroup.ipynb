{
 "cells": [
  {
   "cell_type": "markdown",
   "metadata": {},
   "source": [
    "# Reverse Nodes in k-Group\n",
    "\n",
    "Given the head of a linked list, reverse the nodes of the list k at a time, and return the modified list.\n",
    "\n",
    "## Constraints\n",
    "\n",
    "- The number of nodes in the list is n.\n",
    "- 1 <= k <= n <= 5000\n",
    "- 0 <= Node.val <= 1000\n",
    "\n",
    "## Example 1\n",
    "\n",
    "### Input\n",
    "head = [1,2,3,4,5], k = 2\n",
    "\n",
    "### Output\n",
    "[2,1,4,3,5]\n",
    "\n",
    "## Example 2\n",
    "\n",
    "### Input\n",
    "head = [1,2,3,4,5], k = 3\n",
    "\n",
    "### Output\n",
    "[3,2,1,4,5]\n",
    "\n",
    "\n",
    "## Follow-up\n",
    "Can you solve the problem in O(1) extra memory space?"
   ]
  },
  {
   "cell_type": "code",
   "execution_count": null,
   "metadata": {},
   "outputs": [],
   "source": [
    "# Definition for singly-linked list.\n",
    "# class ListNode:\n",
    "#     def __init__(self, val=0, next=None):\n",
    "#         self.val = val\n",
    "#         self.next = next\n",
    "class Solution:\n",
    "    def reverseKGroup(self, head: Optional[ListNode], k: int) -> Optional[ListNode]:\n",
    "        dummy = ListNode(0, head)\n",
    "        groupPrev = dummy\n",
    "\n",
    "        while True:\n",
    "            kth = self.getKth(groupPrev, k)\n",
    "            if not kth:\n",
    "                break\n",
    "            groupNext = kth.next\n",
    "\n",
    "            # Reverse group\n",
    "            prev, curr = kth.next, groupPrev.next\n",
    "            while curr != groupNext:\n",
    "                tmp = curr.next\n",
    "                curr.next = prev\n",
    "                prev = curr\n",
    "                curr = tmp\n",
    "\n",
    "            tmp = groupPrev.next\n",
    "            groupPrev.next = kth\n",
    "            groupPrev = tmp\n",
    "        return dummy.next\n",
    "\n",
    "    def getKth(self, curr, k):\n",
    "        while curr and k > 0:\n",
    "            curr = curr.next\n",
    "            k -= 1\n",
    "        return curr"
   ]
  }
 ],
 "metadata": {
  "language_info": {
   "name": "python"
  }
 },
 "nbformat": 4,
 "nbformat_minor": 2
}
