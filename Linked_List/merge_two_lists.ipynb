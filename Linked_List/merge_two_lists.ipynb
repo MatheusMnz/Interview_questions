{
 "cells": [
  {
   "cell_type": "markdown",
   "metadata": {},
   "source": [
    "Merge Two Sorted Lists\n",
    "You are given the heads of two sorted linked lists, list1 and list2.\n",
    "\n",
    "Merge the two lists into one sorted list. The list should be made by splicing together the nodes of the first two lists.\n",
    "\n",
    "Return the head of the merged linked list.\n",
    "\n",
    "Example 1\n",
    "Input: list1 = [1,2,4], list2 = [1,3,4]\n",
    "Output: [1,1,2,3,4,4]\n",
    "\n",
    "Example 2\n",
    "Input: list1 = [], list2 = []\n",
    "Output: []\n"
   ]
  },
  {
   "cell_type": "code",
   "execution_count": null,
   "metadata": {},
   "outputs": [],
   "source": [
    "class Solution:\n",
    "    def mergeTwoLists(self, list1: ListNode, list2: ListNode) -> ListNode:\n",
    "        dummy = node = ListNode()\n",
    "        \n",
    "        while list1 and list2:\n",
    "            if list1.val < list2.val:\n",
    "                # Proximo no da lista mesclada recebe o nó da lista 1\n",
    "                node.next = list1\n",
    "                \n",
    "                # lista 1 vira o próximo nó dela\n",
    "                list1 = list1.next \n",
    "            else:\n",
    "                node.next = list2\n",
    "                list2 = list2.next\n",
    "            \n",
    "            # Recebo o próximo nó\n",
    "            node = node.next\n",
    "            \n",
    "        # Caso uma lista seja maior que outra\n",
    "        node.next = list1 or list2\n",
    "        \n",
    "        # Aponta para o primeiro elemento da lista mesclada\n",
    "        return dummy.next\n",
    "                "
   ]
  }
 ],
 "metadata": {
  "language_info": {
   "name": "python"
  }
 },
 "nbformat": 4,
 "nbformat_minor": 2
}
