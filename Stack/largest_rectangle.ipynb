{
 "cells": [
  {
   "cell_type": "markdown",
   "metadata": {},
   "source": [
    "## Largest Rectangle in Histogram\n",
    "\n",
    "Given an array of integers `heights` representing the histogram's bar height where the width of each bar is 1, return the area of the largest rectangle in the histogram.\n",
    "\n",
    "### Example 1:\n",
    "\n",
    "```python\n",
    "Input: heights = [2,1,5,6,2,3]\n",
    "Output: 10\n",
    "Explanation: The above is a histogram where the width of each bar is 1.\n",
    "The largest rectangle is shown in the red area, which has an area = 10 units.\n"
   ]
  },
  {
   "cell_type": "code",
   "execution_count": null,
   "metadata": {},
   "outputs": [],
   "source": [
    "class Solution:\n",
    "    def largestRectangleArea(self, heights: List[int]) -> int:\n",
    "        maxArea = 0\n",
    "        stack = []\n",
    "\n",
    "        for i, h in enumerate(heights):\n",
    "            start = i\n",
    "            while stack and stack[-1][1] > h:\n",
    "                index, height = stack.pop()\n",
    "                maxArea = max(maxArea, height * (i - index))\n",
    "                start = index\n",
    "            stack.append((start, h))\n",
    "\n",
    "        for i, h in stack:\n",
    "            maxArea = max(maxArea, h * (len(heights) - i))\n",
    "        return maxArea"
   ]
  }
 ],
 "metadata": {
  "language_info": {
   "name": "python"
  }
 },
 "nbformat": 4,
 "nbformat_minor": 2
}
