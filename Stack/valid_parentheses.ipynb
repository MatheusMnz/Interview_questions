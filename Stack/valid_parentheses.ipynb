{
 "cells": [
  {
   "cell_type": "markdown",
   "metadata": {},
   "source": [
    "# Valid Parentheses\n",
    "\n",
    "Given a string `s` containing just the characters '(', ')', '{', '}', '[' and ']', determine if the input string is valid.\n",
    "\n",
    "An input string is valid if:\n",
    "\n",
    "- Open brackets must be closed by the same type of brackets.\n",
    "- Open brackets must be closed in the correct order.\n",
    "- Every close bracket has a corresponding open bracket of the same type.\n",
    "\n",
    "**Example 1:**\n",
    "\n",
    "Input: `s = \"()\"`\n",
    "Output: `true`\n",
    "\n",
    "**Example 2:**\n",
    "\n",
    "Input: `s = \"()[]{}\"`\n",
    "Output: `true`\n",
    "\n",
    "**Example 3:**\n",
    "\n",
    "Input: `s = \"(]\"`\n",
    "Output: `false`\n",
    "\n",
    "**Constraints:**\n",
    "\n",
    "- 1 <= s.length <= 104\n",
    "- s consists of parentheses only '()[]{}'\n"
   ]
  },
  {
   "cell_type": "code",
   "execution_count": null,
   "metadata": {},
   "outputs": [],
   "source": [
    "class Solution:\n",
    "    def isValid(self, s: str) -> bool:\n",
    "        Map = {\")\": \"(\", \"]\": \"[\", \"}\": \"{\"}\n",
    "        stack = []\n",
    "\n",
    "        for c in s:\n",
    "            if c not in Map:\n",
    "                stack.append(c)\n",
    "                continue\n",
    "            if not stack or stack[-1] != Map[c]:\n",
    "                return False\n",
    "            stack.pop()\n",
    "\n",
    "        return not stack\n"
   ]
  }
 ],
 "metadata": {
  "language_info": {
   "name": "python"
  }
 },
 "nbformat": 4,
 "nbformat_minor": 2
}
