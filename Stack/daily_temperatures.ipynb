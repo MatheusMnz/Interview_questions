{
 "cells": [
  {
   "cell_type": "markdown",
   "metadata": {},
   "source": [
    "Given an array of integers `temperatures` represents the daily temperatures, return an array `answer` such that `answer[i]` is the number of days you have to wait after the ith day to get a warmer temperature. If there is no future day for which this is possible, keep `answer[i] == 0` instead.\n",
    "\n",
    "**Example 1:**\n",
    "\n",
    "Input: `temperatures = [73,74,75,71,69,72,76,73]`  \n",
    "Output: `[1,1,4,2,1,1,0,0]`\n",
    "\n",
    "**Example 2:**\n",
    "\n",
    "Input: `temperatures = [30,40,50,60]`  \n",
    "Output: `[1,1,1,0]`\n",
    "\n",
    "**Example 3:**\n",
    "\n",
    "Input: `temperatures = [30,60,90]`  \n",
    "Output: `[1,1,0]`\n",
    "\n",
    "**Constraints:**\n",
    "\n",
    "- 1 <= `temperatures.length` <= 105\n",
    "- 30 <= `temperatures[i]` <= 100\n"
   ]
  },
  {
   "cell_type": "code",
   "execution_count": null,
   "metadata": {},
   "outputs": [],
   "source": [
    "from typing import List\n",
    "\n",
    "\n",
    "class Solution:\n",
    "    def dailyTemperatures(self, temperatures: List[int]) -> List[int]:\n",
    "        res = [0] * len(temperatures)\n",
    "        stack = [] #(temp, index)\n",
    "\n",
    "        for index, temp in enumerate(temperatures):\n",
    "            while stack:\n",
    "                last_temp = stack[-1][0]\n",
    "                if temp > last_temp:\n",
    "                    stackTemp, stackIndex = stack.pop()\n",
    "                    res[stackIndex] = index - stackIndex\n",
    "                else:\n",
    "                    continue\n",
    "            stack.append((temp, index))\n",
    "\n",
    "        return res\n"
   ]
  }
 ],
 "metadata": {
  "language_info": {
   "name": "python"
  }
 },
 "nbformat": 4,
 "nbformat_minor": 2
}
