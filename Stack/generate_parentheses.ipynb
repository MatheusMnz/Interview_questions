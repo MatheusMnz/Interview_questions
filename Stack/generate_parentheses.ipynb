{
 "cells": [
  {
   "cell_type": "markdown",
   "metadata": {},
   "source": [
    "Given `n` pairs of parentheses, write a function to generate all combinations of well-formed parentheses.\n",
    "\n",
    "**Example 1:**\n",
    "\n",
    "Input: `n = 3`  \n",
    "Output: `[\"((()))\",\"(()())\",\"(())()\",\"()(())\",\"()()()\"]`\n",
    "\n",
    "**Example 2:**\n",
    "\n",
    "Input: `n = 1`  \n",
    "Output: `[\"()\"]`\n",
    "\n",
    "**Constraints:**\n",
    "\n",
    "- 1 <= `n` <= 8\n"
   ]
  },
  {
   "cell_type": "code",
   "execution_count": null,
   "metadata": {},
   "outputs": [],
   "source": [
    "from typing import List\n",
    "\n",
    "\n",
    "class Solution:\n",
    "    def generateParenthesis(self, n: int) -> List[str]:\n",
    "        res = []\n",
    "        stack = []\n",
    "\n",
    "        def backtracking(openN, closedN):\n",
    "            if openN == closedN == n:\n",
    "                res.append(\"\".join(stack))\n",
    "                return\n",
    "\n",
    "            if openN < n:\n",
    "                stack.append(\"(\")\n",
    "                backtracking(openN + 1, closedN)\n",
    "                stack.pop()\n",
    "\n",
    "            if closedN < openN:\n",
    "                stack.append(\")\")\n",
    "                backtracking(openN, closedN + 1)\n",
    "                stack.pop()\n",
    "\n",
    "        backtracking(0, 0)\n",
    "        return res"
   ]
  }
 ],
 "metadata": {
  "language_info": {
   "name": "python"
  }
 },
 "nbformat": 4,
 "nbformat_minor": 2
}
