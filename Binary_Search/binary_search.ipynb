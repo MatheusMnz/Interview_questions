{
 "cells": [
  {
   "cell_type": "markdown",
   "metadata": {},
   "source": [
    "## Problem Statement\n",
    "\n",
    "Given an array of integers `nums` which is sorted in ascending order, and an integer `target`, write a function to search for `target` in `nums`. If `target` exists, then return its index. Otherwise, return -1.\n",
    "\n",
    "You must write an algorithm with O(log n) runtime complexity.\n",
    "\n",
    "## Examples\n",
    "\n",
    "**Example 1:**\n",
    "\n",
    "Input: nums = [-1, 0, 3, 5, 9, 12], target = 9\n",
    "Output: 4\n",
    "Explanation: 9 exists in nums, and its index is 4.\n",
    "\n",
    "**Example 2:**\n",
    "\n",
    "Input: nums = [-1, 0, 3, 5, 9, 12], target = 2\n",
    "Output: -1\n",
    "Explanation: 2 does not exist in nums, so return -1.\n",
    "\n",
    "Constraints\n",
    "1 <= nums.length <= 10^4\n",
    "-10^4 < nums[i], target < 10^4\n",
    "All the integers in nums are unique.\n",
    "nums is sorted in ascending order."
   ]
  },
  {
   "cell_type": "code",
   "execution_count": null,
   "metadata": {},
   "outputs": [],
   "source": [
    "from typing import List\n",
    "\n",
    "\n",
    "class Solution:\n",
    "    def search(self, nums: List[int], target: int) -> int:\n",
    "        left, right = 0, len(nums) - 1\n",
    "\n",
    "        while left <= right:\n",
    "            mid = left + ((right - left) // 2) # Se fizer right -left // 2, pode gerar overflow\n",
    "\n",
    "            if nums[mid] > target:\n",
    "                right = mid - 1\n",
    "            elif nums[mid] < target:\n",
    "                left = mid + 1\n",
    "            else:\n",
    "                return mid\n",
    "            \n",
    "        return -1"
   ]
  }
 ],
 "metadata": {
  "language_info": {
   "name": "python"
  }
 },
 "nbformat": 4,
 "nbformat_minor": 2
}
