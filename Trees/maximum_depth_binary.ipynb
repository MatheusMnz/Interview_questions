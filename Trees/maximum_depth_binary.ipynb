{
 "cells": [
  {
   "cell_type": "markdown",
   "metadata": {},
   "source": [
    "\n",
    "Topics\n",
    "Companies\n",
    "Given the root of a binary tree, return its maximum depth.\n",
    "\n",
    "A binary tree's maximum depth is the number of nodes along the longest path from the root node down to the farthest leaf node.\n",
    "\n",
    " \n",
    "\n",
    "Example 1:\n",
    "\n",
    "\n",
    "Input: root = [3,9,20,null,null,15,7]\n",
    "Output: 3\n",
    "Example 2:\n",
    "\n",
    "Input: root = [1,null,2]\n",
    "Output: 2\n",
    " \n",
    "\n",
    "Constraints:\n",
    "\n",
    "The number of nodes in the tree is in the range [0, 104].\n",
    "-100 <= Node.val <= 100"
   ]
  },
  {
   "cell_type": "code",
   "execution_count": null,
   "metadata": {},
   "outputs": [],
   "source": [
    "class Solution:\n",
    "    def maxDepth(self,root):\n",
    "        stack = [[root, 1]]\n",
    "        res = 0\n",
    "\n",
    "        while stack:\n",
    "            node, depth = stack.pop()\n",
    "\n",
    "            if node:\n",
    "                res = max(res, depth)\n",
    "                stack.append([node.letf, depth + 1])\n",
    "                stack.append([node.right, depth + 1])\n",
    "\n",
    "            \n",
    "        return res\n",
    "\n",
    "# OU\n",
    "\n",
    "# Class Solution:\n",
    "#     def maxDepth(self, root):\n",
    "\n",
    "#         if not root:\n",
    "#             return 0\n",
    "\n",
    "#         q = [deque(root)]\n",
    "#         level = 1\n",
    "\n",
    "#         while q:\n",
    "#             for i in range(len(q)):\n",
    "#                 node = q.popLeft()\n",
    "\n",
    "#                 if node.left:\n",
    "#                     q.append(node.left)\n",
    "#                 if node.right:\n",
    "#                     q.append(node.right)\n",
    "                \n",
    "#             level += 1\n",
    "        \n",
    "#         return level"
   ]
  }
 ],
 "metadata": {
  "language_info": {
   "name": "python"
  }
 },
 "nbformat": 4,
 "nbformat_minor": 2
}
